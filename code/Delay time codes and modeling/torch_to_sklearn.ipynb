{
 "cells": [
  {
   "cell_type": "code",
   "execution_count": null,
   "metadata": {},
   "outputs": [],
   "source": [
    "import pandas as pd\n",
    "import numpy as np\n",
    "import torch\n",
    "import torch.nn as nn\n",
    "import torch.optim as optim\n",
    "from torch.utils.data import DataLoader, TensorDataset, Dataset\n",
    "from sklearn.preprocessing import OneHotEncoder\n",
    "import joblib\n",
    "from model import RegNet"
   ]
  },
  {
   "cell_type": "code",
   "execution_count": null,
   "metadata": {},
   "outputs": [],
   "source": [
    "from sklearn.neural_network import MLPRegressor"
   ]
  },
  {
   "cell_type": "code",
   "execution_count": null,
   "metadata": {},
   "outputs": [],
   "source": [
    "input_size = 847\n",
    "hidden_sizes = [512, 128]\n",
    "output_size = 1"
   ]
  },
  {
   "cell_type": "code",
   "execution_count": null,
   "metadata": {},
   "outputs": [],
   "source": [
    "model = RegNet(input_size,hidden_sizes,output_size)\n",
    "model.load_state_dict(torch.load(f'new_new_model_epoch_1.pth'))"
   ]
  },
  {
   "cell_type": "code",
   "execution_count": null,
   "metadata": {},
   "outputs": [],
   "source": [
    "torch_params = {}\n",
    "for i, layer in enumerate(model.network):\n",
    "    if isinstance(layer, nn.Linear):\n",
    "        torch_params[f'coefs_{i//2}'] = layer.weight.detach().numpy().T  # 转置匹配 sklearn 格式\n",
    "        torch_params[f'intercepts_{i//2}'] = layer.bias.detach().numpy()"
   ]
  },
  {
   "cell_type": "code",
   "execution_count": null,
   "metadata": {},
   "outputs": [],
   "source": [
    "# 定义 sklearn MLPRegressor\n",
    "mlp_model = MLPRegressor(hidden_layer_sizes=(512, 128),\n",
    "                         activation='relu',\n",
    "                         solver='adam',\n",
    "                         max_iter=1)  # max_iter=1 是为了初始化模型，不进行真正的训练\n",
    "\n",
    "# 训练一次来初始化模型参数\n",
    "\n",
    "X_dummy = np.random.rand(10, 847)\n",
    "y_dummy = np.random.rand(10)\n",
    "mlp_model.fit(X_dummy, y_dummy)"
   ]
  },
  {
   "cell_type": "code",
   "execution_count": null,
   "metadata": {},
   "outputs": [],
   "source": [
    "for i in range(len(hidden_sizes) + 1):  # 遍历所有层\n",
    "    mlp_model.coefs_[i] = torch_params[f'coefs_{i}']\n",
    "    mlp_model.intercepts_[i] = torch_params[f'intercepts_{i}']"
   ]
  },
  {
   "cell_type": "code",
   "execution_count": null,
   "metadata": {},
   "outputs": [],
   "source": [
    "joblib.dump(mlp_model, 'new_new_model_1.pkl')"
   ]
  }
 ],
 "metadata": {
  "language_info": {
   "name": "python"
  }
 },
 "nbformat": 4,
 "nbformat_minor": 2
}
